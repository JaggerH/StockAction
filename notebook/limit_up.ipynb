{
 "cells": [
  {
   "cell_type": "code",
   "execution_count": 1,
   "metadata": {},
   "outputs": [],
   "source": [
    "import os\n",
    "import tushare as ts\n",
    "import pandas as pd\n",
    "from datetime import datetime\n",
    "from dotenv import load_dotenv\n",
    "\n",
    "import sys\n",
    "sys.path.append('..')  # 将父文件夹添加到 Python 路径中，不然找不到下面的包\n",
    "\n",
    "from utilities.tushare_limit_up import *"
   ]
  },
  {
   "cell_type": "markdown",
   "metadata": {},
   "source": [
    "以下代码是utilities.tushare_limit_up中generate_limit_up函数的展开"
   ]
  },
  {
   "cell_type": "code",
   "execution_count": 3,
   "metadata": {},
   "outputs": [
    {
     "data": {
      "text/plain": [
       "'20240314'"
      ]
     },
     "execution_count": 3,
     "metadata": {},
     "output_type": "execute_result"
    }
   ],
   "source": [
    "if os.getenv(\"ENV\") != \"product\":\n",
    "    # 在开发环境中加载 .env 文件\n",
    "    load_dotenv(override=True)\n",
    "\n",
    "# 初始化pro接口\n",
    "token = os.getenv('TUSHARE_API_KEY')\n",
    "pro = ts.pro_api(token)\n",
    "\n",
    "# Generate today's date in \"yyyymmdd\" format\n",
    "today_str = datetime.now().strftime(\"%Y%m%d\")\n",
    "cal_date = getLatestTradeData(pro, today_str)\n",
    "\n",
    "cal_date"
   ]
  },
  {
   "cell_type": "markdown",
   "metadata": {},
   "source": [
    "# 以下是getLimitUpData的展开\n",
    "limit_list_d接口获取到的数据是收盘价等于涨停板的股票\n",
    "daily中进行筛选获取涨幅大于10%的股票\n",
    "两者取股票代码的并集\n",
    "\n",
    "然后对基础的数据进行合并"
   ]
  },
  {
   "cell_type": "code",
   "execution_count": 9,
   "metadata": {},
   "outputs": [],
   "source": [
    "limit_up_df = pro.limit_list_d(**{ \"trade_date\": cal_date, \"limit_type\": \"U\", }, fields=[ \"trade_date\", \"ts_code\", \"limit_amount\", \"fd_amount\", \"first_time\", \"last_time\", \"open_times\", \"up_stat\", \"limit_times\", \"limit\" ])\n",
    "daily_df = pro.daily(**{\"trade_date\": cal_date}, fields=[ \"ts_code\", \"trade_date\", \"open\", \"high\", \"low\", \"close\", \"pre_close\", \"change\", \"pct_chg\", \"vol\", \"amount\" ])\n",
    "\n",
    "stock_basic_df = pro.stock_basic(**{\"list_status\": 'L'}, fields=['ts_code','name','industry'])\n",
    "daily_basic_df = pro.daily_basic(**{\"trade_date\": cal_date}, fields=['ts_code','trade_date','circ_mv','total_mv','turnover_rate','turnover_rate_f','pe','pb'])\n"
   ]
  },
  {
   "cell_type": "code",
   "execution_count": null,
   "metadata": {},
   "outputs": [],
   "source": [
    "tenpct_df = daily_df[daily_df['pct_chg'] >= 10]\n",
    "\n",
    "# 合并tenpct_df和limit_up_df\n",
    "union_tscode = pd.concat([tenpct_df['ts_code'], limit_up_df['ts_code']]).drop_duplicates()\n",
    "union_tscode_df = daily_df[daily_df['ts_code'].isin(union_tscode)]\n",
    "merged_df = pd.merge(union_tscode_df, stock_basic_df, on=['ts_code'], how='left')\n",
    "merged_df = pd.merge(merged_df, daily_basic_df, on=['ts_code'], how='left')\n",
    "merged_df = pd.merge(merged_df, limit_up_df, on=['ts_code'], how='outer')\n",
    "\n",
    "df = merged_df"
   ]
  },
  {
   "cell_type": "code",
   "execution_count": 4,
   "metadata": {},
   "outputs": [
    {
     "data": {
      "text/plain": [
       "(      ts_code  name industry  close   pct_chg     amount     circ_mv  \\\n",
       " 52  603261.SH  立航科技       航空  45.84   10.0072   6.241033   12.054671   \n",
       " 56  603580.SH  艾艾精工       塑料  18.41    9.9761   2.146402   24.056936   \n",
       " 13  002298.SZ  中电兴发     软件服务   6.36   10.0346   0.501243   40.673719   \n",
       " 25  002902.SZ  铭普光磁     通信设备  34.43   10.0000  21.767576   51.880130   \n",
       " 55  603533.SH  掌阅科技      互联网  24.90    9.9823  12.825755  109.285312   \n",
       " ..        ...   ...      ...    ...       ...        ...         ...   \n",
       " 35  300900.SZ  广联航空       航空  24.77   13.1050   4.493151   38.457901   \n",
       " 37  301285.SZ   鸿日达      元器件  26.66   14.6174   2.590702   20.584135   \n",
       " 38  301588.SZ   N美新     家居用品  37.39  157.8621   6.608119    8.443597   \n",
       " 66  688695.SH   N中创     软件服务  48.65  116.8970   6.693719    8.749734   \n",
       " 67  836395.BJ  朗鸿科技     IT设备  10.21   16.0227   0.698242    2.825961   \n",
       " \n",
       "       total_mv      pb        pe  turnover_rate  turnover_rate_f limit_amount  \\\n",
       " 52   35.901806  4.1119  102.2995        52.6227          52.6227          NaN   \n",
       " 56   24.056936  5.4561       NaN         8.9782          27.1526          NaN   \n",
       " 13   47.071053  1.1453       NaN         1.2324           1.2610          NaN   \n",
       " 25   73.136626  6.8972  106.1832        42.0621          48.5507          NaN   \n",
       " 55  109.285312  4.2894  189.8067        12.0311          24.7655          NaN   \n",
       " ..         ...     ...       ...            ...              ...          ...   \n",
       " 35   52.452301  3.7258   34.9978        11.8113          13.2131          NaN   \n",
       " 37   55.098222  5.1880  111.7264        13.3875          13.3875          NaN   \n",
       " 38   44.444653  5.0019   58.5028        77.6454          77.6454          NaN   \n",
       " 66   41.377495  5.2178   62.0693        74.0278          74.0278          NaN   \n",
       " 67    9.348276  4.3012   20.6774        24.2289          24.2289          NaN   \n",
       " \n",
       "     fd_amount first_time last_time  open_times up_stat  limit_times  \n",
       " 52   0.283933      93213    144513         6.0     7/7          7.0  \n",
       " 56   0.500989      93017     93814         2.0     7/7          7.0  \n",
       " 13   3.617805      92500     92500         0.0     4/4          4.0  \n",
       " 25   0.031387      92500    150000         5.0     4/4          4.0  \n",
       " 55   0.995552      94457    110739         5.0     3/3          3.0  \n",
       " ..        ...        ...       ...         ...     ...          ...  \n",
       " 35        NaN        NaN       NaN         NaN     NaN          NaN  \n",
       " 37        NaN        NaN       NaN         NaN     NaN          NaN  \n",
       " 38        NaN        NaN       NaN         NaN     NaN          NaN  \n",
       " 66        NaN        NaN       NaN         NaN     NaN          NaN  \n",
       " 67        NaN        NaN       NaN         NaN     NaN          NaN  \n",
       " \n",
       " [68 rows x 19 columns],\n",
       " '20240313')"
      ]
     },
     "execution_count": 4,
     "metadata": {},
     "output_type": "execute_result"
    }
   ],
   "source": [
    "# 以下是最终代码，直接可调用\n",
    "df, cal_date = generate_limit_up_df('20240313')\n",
    "\n",
    "df, cal_date"
   ]
  },
  {
   "cell_type": "code",
   "execution_count": 5,
   "metadata": {},
   "outputs": [
    {
     "name": "stdout",
     "output_type": "stream",
     "text": [
      "已写入路径：./涨停分析-20240313.xlsx\n"
     ]
    }
   ],
   "source": [
    "generate_limit_up_excel(df, cal_date)"
   ]
  }
 ],
 "metadata": {
  "kernelspec": {
   "display_name": ".venv",
   "language": "python",
   "name": "python3"
  },
  "language_info": {
   "codemirror_mode": {
    "name": "ipython",
    "version": 3
   },
   "file_extension": ".py",
   "mimetype": "text/x-python",
   "name": "python",
   "nbconvert_exporter": "python",
   "pygments_lexer": "ipython3",
   "version": "3.9.6"
  }
 },
 "nbformat": 4,
 "nbformat_minor": 2
}
