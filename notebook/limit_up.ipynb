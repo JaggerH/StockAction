{
 "cells": [
  {
   "cell_type": "code",
   "execution_count": 6,
   "metadata": {},
   "outputs": [],
   "source": [
    "import sys\n",
    "sys.path.append('..')  # 将父文件夹添加到 Python 路径中，不然找不到下面的包\n",
    "\n",
    "from utilities.set_env import set_env\n",
    "from utilities.tushare_limit_up import *"
   ]
  },
  {
   "cell_type": "code",
   "execution_count": 7,
   "metadata": {},
   "outputs": [
    {
     "data": {
      "text/plain": [
       "'20240315'"
      ]
     },
     "execution_count": 7,
     "metadata": {},
     "output_type": "execute_result"
    }
   ],
   "source": [
    "set_env()\n",
    "\n",
    "instance = TushareLimitUp()\n",
    "cal_date = instance.getLatestTradeData()\n",
    "\n",
    "cal_date"
   ]
  },
  {
   "cell_type": "markdown",
   "metadata": {},
   "source": [
    "limit_list_d接口获取到的数据是收盘价等于涨停板的股票\n",
    "daily中进行筛选获取涨幅大于10%的股票\n",
    "两者取股票代码的并集\n",
    "\n",
    "然后对基础的数据进行合并"
   ]
  },
  {
   "cell_type": "code",
   "execution_count": 8,
   "metadata": {},
   "outputs": [
    {
     "data": {
      "text/html": [
       "<div>\n",
       "<style scoped>\n",
       "    .dataframe tbody tr th:only-of-type {\n",
       "        vertical-align: middle;\n",
       "    }\n",
       "\n",
       "    .dataframe tbody tr th {\n",
       "        vertical-align: top;\n",
       "    }\n",
       "\n",
       "    .dataframe thead th {\n",
       "        text-align: right;\n",
       "    }\n",
       "</style>\n",
       "<table border=\"1\" class=\"dataframe\">\n",
       "  <thead>\n",
       "    <tr style=\"text-align: right;\">\n",
       "      <th></th>\n",
       "      <th>ts_code</th>\n",
       "      <th>name</th>\n",
       "      <th>industry</th>\n",
       "      <th>close</th>\n",
       "      <th>pct_chg</th>\n",
       "      <th>amount</th>\n",
       "      <th>circ_mv</th>\n",
       "      <th>total_mv</th>\n",
       "      <th>pb</th>\n",
       "      <th>pe</th>\n",
       "      <th>turnover_rate</th>\n",
       "      <th>turnover_rate_f</th>\n",
       "      <th>limit_amount</th>\n",
       "      <th>fd_amount</th>\n",
       "      <th>first_time</th>\n",
       "      <th>last_time</th>\n",
       "      <th>open_times</th>\n",
       "      <th>up_stat</th>\n",
       "      <th>limit_times</th>\n",
       "    </tr>\n",
       "  </thead>\n",
       "  <tbody>\n",
       "  </tbody>\n",
       "</table>\n",
       "</div>"
      ],
      "text/plain": [
       "Empty DataFrame\n",
       "Columns: [ts_code, name, industry, close, pct_chg, amount, circ_mv, total_mv, pb, pe, turnover_rate, turnover_rate_f, limit_amount, fd_amount, first_time, last_time, open_times, up_stat, limit_times]\n",
       "Index: []"
      ]
     },
     "execution_count": 8,
     "metadata": {},
     "output_type": "execute_result"
    }
   ],
   "source": [
    "df = instance.generate_limit_up_df()\n",
    "\n",
    "df[:10]"
   ]
  },
  {
   "cell_type": "code",
   "execution_count": 9,
   "metadata": {},
   "outputs": [
    {
     "data": {
      "text/plain": [
       "True"
      ]
     },
     "execution_count": 9,
     "metadata": {},
     "output_type": "execute_result"
    }
   ],
   "source": [
    "instance.limit_up_df.empty"
   ]
  },
  {
   "cell_type": "code",
   "execution_count": 13,
   "metadata": {},
   "outputs": [
    {
     "data": {
      "text/html": [
       "<div>\n",
       "<style scoped>\n",
       "    .dataframe tbody tr th:only-of-type {\n",
       "        vertical-align: middle;\n",
       "    }\n",
       "\n",
       "    .dataframe tbody tr th {\n",
       "        vertical-align: top;\n",
       "    }\n",
       "\n",
       "    .dataframe thead th {\n",
       "        text-align: right;\n",
       "    }\n",
       "</style>\n",
       "<table border=\"1\" class=\"dataframe\">\n",
       "  <thead>\n",
       "    <tr style=\"text-align: right;\">\n",
       "      <th></th>\n",
       "      <th>ts_code</th>\n",
       "      <th>name</th>\n",
       "      <th>industry</th>\n",
       "    </tr>\n",
       "  </thead>\n",
       "  <tbody>\n",
       "    <tr>\n",
       "      <th>0</th>\n",
       "      <td>000001.SZ</td>\n",
       "      <td>平安银行</td>\n",
       "      <td>银行</td>\n",
       "    </tr>\n",
       "    <tr>\n",
       "      <th>1</th>\n",
       "      <td>000002.SZ</td>\n",
       "      <td>万科A</td>\n",
       "      <td>全国地产</td>\n",
       "    </tr>\n",
       "    <tr>\n",
       "      <th>2</th>\n",
       "      <td>000004.SZ</td>\n",
       "      <td>国华网安</td>\n",
       "      <td>软件服务</td>\n",
       "    </tr>\n",
       "    <tr>\n",
       "      <th>3</th>\n",
       "      <td>000005.SZ</td>\n",
       "      <td>ST星源</td>\n",
       "      <td>环境保护</td>\n",
       "    </tr>\n",
       "    <tr>\n",
       "      <th>4</th>\n",
       "      <td>000006.SZ</td>\n",
       "      <td>深振业A</td>\n",
       "      <td>区域地产</td>\n",
       "    </tr>\n",
       "    <tr>\n",
       "      <th>...</th>\n",
       "      <td>...</td>\n",
       "      <td>...</td>\n",
       "      <td>...</td>\n",
       "    </tr>\n",
       "    <tr>\n",
       "      <th>5350</th>\n",
       "      <td>873706.BJ</td>\n",
       "      <td>铁拓机械</td>\n",
       "      <td>专用机械</td>\n",
       "    </tr>\n",
       "    <tr>\n",
       "      <th>5351</th>\n",
       "      <td>873726.BJ</td>\n",
       "      <td>卓兆点胶</td>\n",
       "      <td>机械基件</td>\n",
       "    </tr>\n",
       "    <tr>\n",
       "      <th>5352</th>\n",
       "      <td>873806.BJ</td>\n",
       "      <td>云星宇</td>\n",
       "      <td>软件服务</td>\n",
       "    </tr>\n",
       "    <tr>\n",
       "      <th>5353</th>\n",
       "      <td>873833.BJ</td>\n",
       "      <td>美心翼申</td>\n",
       "      <td>汽车配件</td>\n",
       "    </tr>\n",
       "    <tr>\n",
       "      <th>5354</th>\n",
       "      <td>689009.SH</td>\n",
       "      <td>九号公司-WD</td>\n",
       "      <td>摩托车</td>\n",
       "    </tr>\n",
       "  </tbody>\n",
       "</table>\n",
       "<p>5355 rows × 3 columns</p>\n",
       "</div>"
      ],
      "text/plain": [
       "        ts_code     name industry\n",
       "0     000001.SZ     平安银行       银行\n",
       "1     000002.SZ      万科A     全国地产\n",
       "2     000004.SZ     国华网安     软件服务\n",
       "3     000005.SZ     ST星源     环境保护\n",
       "4     000006.SZ     深振业A     区域地产\n",
       "...         ...      ...      ...\n",
       "5350  873706.BJ     铁拓机械     专用机械\n",
       "5351  873726.BJ     卓兆点胶     机械基件\n",
       "5352  873806.BJ      云星宇     软件服务\n",
       "5353  873833.BJ     美心翼申     汽车配件\n",
       "5354  689009.SH  九号公司-WD      摩托车\n",
       "\n",
       "[5355 rows x 3 columns]"
      ]
     },
     "execution_count": 13,
     "metadata": {},
     "output_type": "execute_result"
    }
   ],
   "source": [
    "instance.stock_basic_df"
   ]
  },
  {
   "cell_type": "code",
   "execution_count": 4,
   "metadata": {},
   "outputs": [
    {
     "name": "stdout",
     "output_type": "stream",
     "text": [
      "已写入路径：./涨停分析-20240314.xlsx\n"
     ]
    }
   ],
   "source": [
    "generate_limit_up_excel(df, cal_date)"
   ]
  }
 ],
 "metadata": {
  "kernelspec": {
   "display_name": ".venv",
   "language": "python",
   "name": "python3"
  },
  "language_info": {
   "codemirror_mode": {
    "name": "ipython",
    "version": 3
   },
   "file_extension": ".py",
   "mimetype": "text/x-python",
   "name": "python",
   "nbconvert_exporter": "python",
   "pygments_lexer": "ipython3",
   "version": "3.9.4"
  }
 },
 "nbformat": 4,
 "nbformat_minor": 2
}
