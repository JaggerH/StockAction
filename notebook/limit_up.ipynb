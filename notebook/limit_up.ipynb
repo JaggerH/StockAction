{
 "cells": [
  {
   "cell_type": "code",
   "execution_count": 6,
   "metadata": {},
   "outputs": [],
   "source": [
    "import os\n",
    "import tushare as ts\n",
    "import pandas as pd\n",
    "from datetime import datetime\n",
    "from dotenv import load_dotenv\n",
    "\n",
    "import sys\n",
    "sys.path.append('..')  # 将父文件夹添加到 Python 路径中，不然找不到下面的包\n",
    "\n",
    "from utilities.tushare_limit_up import *"
   ]
  },
  {
   "cell_type": "markdown",
   "metadata": {},
   "source": [
    "以下代码是utilities.tushare_limit_up中generate_limit_up函数的展开"
   ]
  },
  {
   "cell_type": "code",
   "execution_count": 7,
   "metadata": {},
   "outputs": [
    {
     "data": {
      "text/plain": [
       "'20240313'"
      ]
     },
     "execution_count": 7,
     "metadata": {},
     "output_type": "execute_result"
    }
   ],
   "source": [
    "if os.getenv(\"ENV\") != \"product\":\n",
    "    # 在开发环境中加载 .env 文件\n",
    "    load_dotenv(override=True)\n",
    "\n",
    "# 初始化pro接口\n",
    "token = os.getenv('TUSHARE_API_KEY')\n",
    "pro = ts.pro_api(token)\n",
    "\n",
    "# Generate today's date in \"yyyymmdd\" format\n",
    "today_str = datetime.now().strftime(\"%Y%m%d\")\n",
    "cal_date = getLatestTradeData(pro, today_str)\n",
    "\n",
    "cal_date"
   ]
  },
  {
   "cell_type": "markdown",
   "metadata": {},
   "source": [
    "# 以下是getLimitUpData的展开\n",
    "limit_list_d接口获取到的数据是收盘价等于涨停板的股票\n",
    "daily中进行筛选获取涨幅大于10%的股票\n",
    "两者取股票代码的并集\n",
    "\n",
    "然后对基础的数据进行合并"
   ]
  },
  {
   "cell_type": "code",
   "execution_count": 9,
   "metadata": {},
   "outputs": [],
   "source": [
    "limit_up_df = pro.limit_list_d(**{ \"trade_date\": cal_date, \"limit_type\": \"U\", }, fields=[ \"trade_date\", \"ts_code\", \"limit_amount\", \"fd_amount\", \"first_time\", \"last_time\", \"open_times\", \"up_stat\", \"limit_times\", \"limit\" ])\n",
    "daily_df = pro.daily(**{\"trade_date\": cal_date}, fields=[ \"ts_code\", \"trade_date\", \"open\", \"high\", \"low\", \"close\", \"pre_close\", \"change\", \"pct_chg\", \"vol\", \"amount\" ])\n",
    "\n",
    "stock_basic_df = pro.stock_basic(**{\"list_status\": 'L'}, fields=['ts_code','name','industry'])\n",
    "daily_basic_df = pro.daily_basic(**{\"trade_date\": cal_date}, fields=['ts_code','trade_date','circ_mv','total_mv','turnover_rate','turnover_rate_f','pe','pb'])\n"
   ]
  },
  {
   "cell_type": "code",
   "execution_count": null,
   "metadata": {},
   "outputs": [],
   "source": [
    "tenpct_df = daily_df[daily_df['pct_chg'] >= 10]\n",
    "\n",
    "# 合并tenpct_df和limit_up_df\n",
    "union_tscode = pd.concat([tenpct_df['ts_code'], limit_up_df['ts_code']]).drop_duplicates()\n",
    "union_tscode_df = daily_df[daily_df['ts_code'].isin(union_tscode)]\n",
    "merged_df = pd.merge(union_tscode_df, stock_basic_df, on=['ts_code'], how='left')\n",
    "merged_df = pd.merge(merged_df, daily_basic_df, on=['ts_code'], how='left')\n",
    "merged_df = pd.merge(merged_df, limit_up_df, on=['ts_code'], how='outer')\n",
    "\n",
    "df = merged_df"
   ]
  }
 ],
 "metadata": {
  "kernelspec": {
   "display_name": ".venv",
   "language": "python",
   "name": "python3"
  },
  "language_info": {
   "codemirror_mode": {
    "name": "ipython",
    "version": 3
   },
   "file_extension": ".py",
   "mimetype": "text/x-python",
   "name": "python",
   "nbconvert_exporter": "python",
   "pygments_lexer": "ipython3",
   "version": "3.9.6"
  }
 },
 "nbformat": 4,
 "nbformat_minor": 2
}
