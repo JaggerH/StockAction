{
 "cells": [
  {
   "cell_type": "code",
   "execution_count": 1,
   "metadata": {},
   "outputs": [],
   "source": [
    "import sys\n",
    "sys.path.append('..')  # 将父文件夹添加到 Python 路径中，不然找不到下面的包\n",
    "\n",
    "from utilities.set_env import set_env\n",
    "from utilities.tushare_limit_up import *"
   ]
  },
  {
   "cell_type": "code",
   "execution_count": 2,
   "metadata": {},
   "outputs": [
    {
     "data": {
      "text/plain": [
       "'20240315'"
      ]
     },
     "execution_count": 2,
     "metadata": {},
     "output_type": "execute_result"
    }
   ],
   "source": [
    "set_env()\n",
    "\n",
    "instance = TushareLimitUp()\n",
    "cal_date = instance.getLatestTradeData()\n",
    "\n",
    "cal_date"
   ]
  },
  {
   "cell_type": "markdown",
   "metadata": {},
   "source": [
    "limit_list_d接口获取到的数据是收盘价等于涨停板的股票\n",
    "daily中进行筛选获取涨幅大于10%的股票\n",
    "两者取股票代码的并集\n",
    "\n",
    "然后对基础的数据进行合并"
   ]
  },
  {
   "cell_type": "code",
   "execution_count": 6,
   "metadata": {},
   "outputs": [
    {
     "data": {
      "text/html": [
       "<div>\n",
       "<style scoped>\n",
       "    .dataframe tbody tr th:only-of-type {\n",
       "        vertical-align: middle;\n",
       "    }\n",
       "\n",
       "    .dataframe tbody tr th {\n",
       "        vertical-align: top;\n",
       "    }\n",
       "\n",
       "    .dataframe thead th {\n",
       "        text-align: right;\n",
       "    }\n",
       "</style>\n",
       "<table border=\"1\" class=\"dataframe\">\n",
       "  <thead>\n",
       "    <tr style=\"text-align: right;\">\n",
       "      <th></th>\n",
       "      <th>ts_code</th>\n",
       "      <th>name</th>\n",
       "      <th>industry</th>\n",
       "      <th>close</th>\n",
       "      <th>pct_chg</th>\n",
       "      <th>amount</th>\n",
       "      <th>circ_mv</th>\n",
       "      <th>total_mv</th>\n",
       "      <th>pb</th>\n",
       "      <th>pe</th>\n",
       "      <th>turnover_rate</th>\n",
       "      <th>turnover_rate_f</th>\n",
       "      <th>limit_amount</th>\n",
       "      <th>fd_amount</th>\n",
       "      <th>first_time</th>\n",
       "      <th>last_time</th>\n",
       "      <th>open_times</th>\n",
       "      <th>up_stat</th>\n",
       "      <th>limit_times</th>\n",
       "    </tr>\n",
       "  </thead>\n",
       "  <tbody>\n",
       "    <tr>\n",
       "      <th>73</th>\n",
       "      <td>603580.SH</td>\n",
       "      <td>艾艾精工</td>\n",
       "      <td>塑料</td>\n",
       "      <td>22.28</td>\n",
       "      <td>10.0247</td>\n",
       "      <td>2.910304</td>\n",
       "      <td>29.113989</td>\n",
       "      <td>29.113989</td>\n",
       "      <td>6.6030</td>\n",
       "      <td>NaN</td>\n",
       "      <td>10.0032</td>\n",
       "      <td>30.2525</td>\n",
       "      <td>NaN</td>\n",
       "      <td>0.824532</td>\n",
       "      <td>93018</td>\n",
       "      <td>141748</td>\n",
       "      <td>2.0</td>\n",
       "      <td>9/9</td>\n",
       "      <td>9.0</td>\n",
       "    </tr>\n",
       "    <tr>\n",
       "      <th>12</th>\n",
       "      <td>002076.SZ</td>\n",
       "      <td>星光股份</td>\n",
       "      <td>家用电器</td>\n",
       "      <td>2.90</td>\n",
       "      <td>9.8485</td>\n",
       "      <td>6.802007</td>\n",
       "      <td>30.062564</td>\n",
       "      <td>32.164610</td>\n",
       "      <td>10.0976</td>\n",
       "      <td>130.7021</td>\n",
       "      <td>23.1698</td>\n",
       "      <td>26.2392</td>\n",
       "      <td>NaN</td>\n",
       "      <td>3.348299</td>\n",
       "      <td>94327</td>\n",
       "      <td>94327</td>\n",
       "      <td>0.0</td>\n",
       "      <td>5/5</td>\n",
       "      <td>5.0</td>\n",
       "    </tr>\n",
       "    <tr>\n",
       "      <th>77</th>\n",
       "      <td>603963.SH</td>\n",
       "      <td>大理药业</td>\n",
       "      <td>中成药</td>\n",
       "      <td>10.91</td>\n",
       "      <td>9.9798</td>\n",
       "      <td>1.800509</td>\n",
       "      <td>23.969270</td>\n",
       "      <td>23.969270</td>\n",
       "      <td>6.2134</td>\n",
       "      <td>NaN</td>\n",
       "      <td>7.7949</td>\n",
       "      <td>26.9386</td>\n",
       "      <td>NaN</td>\n",
       "      <td>0.286624</td>\n",
       "      <td>93133</td>\n",
       "      <td>93312</td>\n",
       "      <td>2.0</td>\n",
       "      <td>4/4</td>\n",
       "      <td>4.0</td>\n",
       "    </tr>\n",
       "    <tr>\n",
       "      <th>76</th>\n",
       "      <td>603879.SH</td>\n",
       "      <td>永悦科技</td>\n",
       "      <td>化工原料</td>\n",
       "      <td>7.15</td>\n",
       "      <td>10.0000</td>\n",
       "      <td>2.458839</td>\n",
       "      <td>25.693127</td>\n",
       "      <td>25.791619</td>\n",
       "      <td>5.5049</td>\n",
       "      <td>NaN</td>\n",
       "      <td>9.5760</td>\n",
       "      <td>15.5434</td>\n",
       "      <td>NaN</td>\n",
       "      <td>0.591070</td>\n",
       "      <td>92502</td>\n",
       "      <td>95620</td>\n",
       "      <td>1.0</td>\n",
       "      <td>4/4</td>\n",
       "      <td>4.0</td>\n",
       "    </tr>\n",
       "    <tr>\n",
       "      <th>64</th>\n",
       "      <td>603095.SH</td>\n",
       "      <td>越剑智能</td>\n",
       "      <td>纺织机械</td>\n",
       "      <td>18.62</td>\n",
       "      <td>9.9823</td>\n",
       "      <td>2.054350</td>\n",
       "      <td>34.409760</td>\n",
       "      <td>34.409760</td>\n",
       "      <td>1.3707</td>\n",
       "      <td>7.6449</td>\n",
       "      <td>6.2345</td>\n",
       "      <td>22.0041</td>\n",
       "      <td>NaN</td>\n",
       "      <td>0.397240</td>\n",
       "      <td>102932</td>\n",
       "      <td>102932</td>\n",
       "      <td>0.0</td>\n",
       "      <td>2/2</td>\n",
       "      <td>2.0</td>\n",
       "    </tr>\n",
       "  </tbody>\n",
       "</table>\n",
       "</div>"
      ],
      "text/plain": [
       "      ts_code  name industry  close  pct_chg    amount    circ_mv   total_mv  \\\n",
       "73  603580.SH  艾艾精工       塑料  22.28  10.0247  2.910304  29.113989  29.113989   \n",
       "12  002076.SZ  星光股份     家用电器   2.90   9.8485  6.802007  30.062564  32.164610   \n",
       "77  603963.SH  大理药业      中成药  10.91   9.9798  1.800509  23.969270  23.969270   \n",
       "76  603879.SH  永悦科技     化工原料   7.15  10.0000  2.458839  25.693127  25.791619   \n",
       "64  603095.SH  越剑智能     纺织机械  18.62   9.9823  2.054350  34.409760  34.409760   \n",
       "\n",
       "         pb        pe  turnover_rate  turnover_rate_f limit_amount  fd_amount  \\\n",
       "73   6.6030       NaN        10.0032          30.2525          NaN   0.824532   \n",
       "12  10.0976  130.7021        23.1698          26.2392          NaN   3.348299   \n",
       "77   6.2134       NaN         7.7949          26.9386          NaN   0.286624   \n",
       "76   5.5049       NaN         9.5760          15.5434          NaN   0.591070   \n",
       "64   1.3707    7.6449         6.2345          22.0041          NaN   0.397240   \n",
       "\n",
       "   first_time last_time  open_times up_stat  limit_times  \n",
       "73      93018    141748         2.0     9/9          9.0  \n",
       "12      94327     94327         0.0     5/5          5.0  \n",
       "77      93133     93312         2.0     4/4          4.0  \n",
       "76      92502     95620         1.0     4/4          4.0  \n",
       "64     102932    102932         0.0     2/2          2.0  "
      ]
     },
     "execution_count": 6,
     "metadata": {},
     "output_type": "execute_result"
    }
   ],
   "source": [
    "df = instance.generate_limit_up_df()\n",
    "\n",
    "df[:5]"
   ]
  },
  {
   "cell_type": "code",
   "execution_count": 7,
   "metadata": {},
   "outputs": [
    {
     "data": {
      "text/plain": [
       "'./涨停分析-20240315.xlsx'"
      ]
     },
     "execution_count": 7,
     "metadata": {},
     "output_type": "execute_result"
    }
   ],
   "source": [
    "from utilities.tushare_limit_up import generate_limit_up_excel\n",
    "path = generate_limit_up_excel(df, cal_date)\n",
    "\n",
    "import os\n",
    "os.startfile(path)"
   ]
  }
 ],
 "metadata": {
  "kernelspec": {
   "display_name": ".venv",
   "language": "python",
   "name": "python3"
  },
  "language_info": {
   "codemirror_mode": {
    "name": "ipython",
    "version": 3
   },
   "file_extension": ".py",
   "mimetype": "text/x-python",
   "name": "python",
   "nbconvert_exporter": "python",
   "pygments_lexer": "ipython3",
   "version": "3.9.4"
  }
 },
 "nbformat": 4,
 "nbformat_minor": 2
}
